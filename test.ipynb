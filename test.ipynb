{
 "cells": [
  {
   "cell_type": "markdown",
   "id": "b97a91ab",
   "metadata": {},
   "source": [
    "# HI"
   ]
  },
  {
   "cell_type": "code",
   "execution_count": null,
   "id": "1444d5c7",
   "metadata": {},
   "outputs": [],
   "source": [
    "print(\"hello)"
   ]
  }
 ],
 "metadata": {
  "language_info": {
   "name": "python"
  }
 },
 "nbformat": 4,
 "nbformat_minor": 5
}
